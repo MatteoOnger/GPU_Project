{
  "nbformat": 4,
  "nbformat_minor": 0,
  "metadata": {
    "colab": {
      "provenance": [],
      "gpuType": "T4",
      "collapsed_sections": [
        "bnEIPxjWWZaX"
      ],
      "authorship_tag": "ABX9TyP+2eq0lX65MP8xasaeJQgs",
      "include_colab_link": true
    },
    "kernelspec": {
      "name": "python3",
      "display_name": "Python 3"
    },
    "language_info": {
      "name": "python"
    },
    "accelerator": "GPU"
  },
  "cells": [
    {
      "cell_type": "markdown",
      "metadata": {
        "id": "view-in-github",
        "colab_type": "text"
      },
      "source": [
        "<a href=\"https://colab.research.google.com/github/MatteoOnger/GPU_Project/blob/main/GPU_EA.ipynb\" target=\"_parent\"><img src=\"https://colab.research.google.com/assets/colab-badge.svg\" alt=\"Open In Colab\"/></a>"
      ]
    },
    {
      "cell_type": "markdown",
      "source": [
        "# **GPU Project:**\n",
        "\n",
        "*   **Author:** Matteo Onger\n",
        "*   **Date:** June 2024"
      ],
      "metadata": {
        "id": "gNIdCYybMQ6K"
      }
    },
    {
      "cell_type": "markdown",
      "source": [
        "**Documentation**:\n",
        "*   [CUDA](https://docs.nvidia.com/cuda/cuda-c-programming-guide/contents.html)\n",
        "*   [Nvcc4jupyter](https://github.com/MatteoOnger/nvcc4jupyter)\n",
        "\n",
        "**Notes**:\n",
        "* To execute this notebook, GPU-equipped runtime is necessary.\n"
      ],
      "metadata": {
        "id": "169kyXF1NaIY"
      }
    },
    {
      "cell_type": "markdown",
      "source": [
        "## **VM Setup**\n"
      ],
      "metadata": {
        "id": "bnEIPxjWWZaX"
      }
    },
    {
      "cell_type": "code",
      "source": [
        "# Download nvcc4jupyter extension\n",
        "!git clone https://github.com/MatteoOnger/nvcc4jupyter.git"
      ],
      "metadata": {
        "id": "0aAgdARaeaUR",
        "colab": {
          "base_uri": "https://localhost:8080/"
        },
        "outputId": "a6a37618-c941-4bc8-8f74-7f9189a52a3c"
      },
      "execution_count": null,
      "outputs": [
        {
          "output_type": "stream",
          "name": "stdout",
          "text": [
            "Cloning into 'nvcc4jupyter'...\n",
            "remote: Enumerating objects: 429, done.\u001b[K\n",
            "remote: Counting objects: 100% (308/308), done.\u001b[K\n",
            "remote: Compressing objects: 100% (203/203), done.\u001b[K\n",
            "remote: Total 429 (delta 141), reused 171 (delta 89), pack-reused 121\u001b[K\n",
            "Receiving objects: 100% (429/429), 107.12 KiB | 884.00 KiB/s, done.\n",
            "Resolving deltas: 100% (179/179), done.\n"
          ]
        }
      ]
    },
    {
      "cell_type": "code",
      "source": [
        "# Load and configure the extension\n",
        "%cd ./nvcc4jupyter/\n",
        "\n",
        "%load_ext nvcc4jupyter\n",
        "%config NVCCPlugin.wd = './src'\n",
        "%reload_ext nvcc4jupyter\n",
        "\n",
        "%cd /content"
      ],
      "metadata": {
        "id": "JwuKzpxPK6WW",
        "colab": {
          "base_uri": "https://localhost:8080/"
        },
        "outputId": "caae0c59-47eb-487c-aca9-abd2033e3c0b"
      },
      "execution_count": null,
      "outputs": [
        {
          "output_type": "stream",
          "name": "stdout",
          "text": [
            "/content/nvcc4jupyter\n",
            "Detected platform \"Colab\". Running its setup...\n",
            "Source files will be saved in \"/tmp/tmp42rtmhlq\".\n",
            "Detected platform \"Colab\". Running its setup...\n",
            "Source files will be saved in \"./src\".\n",
            "/content\n"
          ]
        }
      ]
    },
    {
      "cell_type": "code",
      "source": [
        "# Download and install NVIDIA Nsight Systems\n",
        "!wget https://developer.nvidia.com/downloads/assets/tools/secure/nsight-systems/2024_3/nsight-systems-2024.3.1_2024.3.1.75-1_amd64.deb\n",
        "!apt update\n",
        "\n",
        "!apt install ./nsight-systems-2024.3.1_2024.3.1.75-1_amd64.deb\n",
        "!apt --fix-broken install\n",
        "\n",
        "!rm ./nsight-systems-2024.3.1_2024.3.1.75-1_amd64.deb"
      ],
      "metadata": {
        "colab": {
          "base_uri": "https://localhost:8080/"
        },
        "id": "RQhXZl81WPLp",
        "outputId": "8b68ff84-f75d-4ebb-af90-a97d8739dc2b"
      },
      "execution_count": null,
      "outputs": [
        {
          "output_type": "stream",
          "name": "stdout",
          "text": [
            "--2024-06-06 06:55:03--  https://developer.nvidia.com/downloads/assets/tools/secure/nsight-systems/2024_3/nsight-systems-2024.3.1_2024.3.1.75-1_amd64.deb\n",
            "Resolving developer.nvidia.com (developer.nvidia.com)... 152.195.19.142\n",
            "Connecting to developer.nvidia.com (developer.nvidia.com)|152.195.19.142|:443... connected.\n",
            "HTTP request sent, awaiting response... 302 Found\n",
            "Location: https://developer.download.nvidia.com/assets/tools/secure/nsight-systems/2024_3/nsight-systems-2024.3.1_2024.3.1.75-1_amd64.deb?Y-GnG1V4Msw1sA9Y-iWV4IZ4TPds7FgS4WLWSVKq3IXJ702t4lzhIPgOaZ_uf7-owW8MPNjD3th0A7fxPr4_cNIH2bqddWRug2bziDsTqeOnF21CTHMOeaisnNTVf3Yz0w0q3MpgncXgeqm6L3v9jedWe4P4A1O5-W5cyyLMl7gT0yS_mQ_uChnWBvjbKeak8tl-xEyhPsU= [following]\n",
            "--2024-06-06 06:55:03--  https://developer.download.nvidia.com/assets/tools/secure/nsight-systems/2024_3/nsight-systems-2024.3.1_2024.3.1.75-1_amd64.deb?Y-GnG1V4Msw1sA9Y-iWV4IZ4TPds7FgS4WLWSVKq3IXJ702t4lzhIPgOaZ_uf7-owW8MPNjD3th0A7fxPr4_cNIH2bqddWRug2bziDsTqeOnF21CTHMOeaisnNTVf3Yz0w0q3MpgncXgeqm6L3v9jedWe4P4A1O5-W5cyyLMl7gT0yS_mQ_uChnWBvjbKeak8tl-xEyhPsU=\n",
            "Resolving developer.download.nvidia.com (developer.download.nvidia.com)... 152.195.19.142\n",
            "Connecting to developer.download.nvidia.com (developer.download.nvidia.com)|152.195.19.142|:443... connected.\n",
            "HTTP request sent, awaiting response... 200 OK\n",
            "Length: 357735378 (341M) [application/x-deb]\n",
            "Saving to: ‘nsight-systems-2024.3.1_2024.3.1.75-1_amd64.deb’\n",
            "\n",
            "nsight-systems-2024 100%[===================>] 341.16M   233MB/s    in 1.5s    \n",
            "\n",
            "2024-06-06 06:55:05 (233 MB/s) - ‘nsight-systems-2024.3.1_2024.3.1.75-1_amd64.deb’ saved [357735378/357735378]\n",
            "\n",
            "Get:1 https://cloud.r-project.org/bin/linux/ubuntu jammy-cran40/ InRelease [3,626 B]\n",
            "Get:2 https://developer.download.nvidia.com/compute/cuda/repos/ubuntu2204/x86_64  InRelease [1,581 B]\n",
            "Hit:3 http://archive.ubuntu.com/ubuntu jammy InRelease\n",
            "Get:4 http://archive.ubuntu.com/ubuntu jammy-updates InRelease [128 kB]\n",
            "Get:5 http://security.ubuntu.com/ubuntu jammy-security InRelease [129 kB]\n",
            "Get:6 https://developer.download.nvidia.com/compute/cuda/repos/ubuntu2204/x86_64  Packages [893 kB]\n",
            "Hit:7 http://archive.ubuntu.com/ubuntu jammy-backports InRelease\n",
            "Hit:8 https://ppa.launchpadcontent.net/c2d4u.team/c2d4u4.0+/ubuntu jammy InRelease\n",
            "Get:9 http://archive.ubuntu.com/ubuntu jammy-updates/universe amd64 Packages [1,389 kB]\n",
            "Hit:10 https://ppa.launchpadcontent.net/deadsnakes/ppa/ubuntu jammy InRelease\n",
            "Get:11 https://ppa.launchpadcontent.net/graphics-drivers/ppa/ubuntu jammy InRelease [24.3 kB]\n",
            "Get:12 http://archive.ubuntu.com/ubuntu jammy-updates/multiverse amd64 Packages [51.5 kB]\n",
            "Get:13 http://archive.ubuntu.com/ubuntu jammy-updates/main amd64 Packages [2,130 kB]\n",
            "Hit:14 https://ppa.launchpadcontent.net/ubuntugis/ppa/ubuntu jammy InRelease\n",
            "Get:15 http://security.ubuntu.com/ubuntu jammy-security/main amd64 Packages [1,858 kB]\n",
            "Get:16 http://security.ubuntu.com/ubuntu jammy-security/universe amd64 Packages [1,089 kB]\n",
            "Fetched 7,696 kB in 2s (3,200 kB/s)\n",
            "Reading package lists... Done\n",
            "Building dependency tree... Done\n",
            "Reading state information... Done\n",
            "50 packages can be upgraded. Run 'apt list --upgradable' to see them.\n",
            "Reading package lists... Done\n",
            "Building dependency tree... Done\n",
            "Reading state information... Done\n",
            "Note, selecting 'nsight-systems-2024.3.1' instead of './nsight-systems-2024.3.1_2024.3.1.75-1_amd64.deb'\n",
            "The following additional packages will be installed:\n",
            "  libxcb-cursor0 libxcb-icccm4 libxcb-image0 libxcb-keysyms1 libxcb-render-util0 libxcb-util1\n",
            "  libxcb-xinerama0 libxcb-xinput0 libxcb-xkb1 libxkbcommon-x11-0 libxtst6\n",
            "The following NEW packages will be installed:\n",
            "  libxcb-cursor0 libxcb-icccm4 libxcb-image0 libxcb-keysyms1 libxcb-render-util0 libxcb-util1\n",
            "  libxcb-xinerama0 libxcb-xinput0 libxcb-xkb1 libxkbcommon-x11-0 libxtst6 nsight-systems-2024.3.1\n",
            "0 upgraded, 12 newly installed, 0 to remove and 50 not upgraded.\n",
            "Need to get 164 kB/358 MB of archives.\n",
            "After this operation, 752 kB of additional disk space will be used.\n",
            "Get:1 http://archive.ubuntu.com/ubuntu jammy/main amd64 libxcb-xinerama0 amd64 1.14-3ubuntu3 [5,414 B]\n",
            "Get:2 http://archive.ubuntu.com/ubuntu jammy/main amd64 libxcb-xinput0 amd64 1.14-3ubuntu3 [34.3 kB]\n",
            "Get:3 http://archive.ubuntu.com/ubuntu jammy/main amd64 libxcb-xkb1 amd64 1.14-3ubuntu3 [32.8 kB]\n",
            "Get:4 http://archive.ubuntu.com/ubuntu jammy/main amd64 libxkbcommon-x11-0 amd64 1.4.0-1 [14.4 kB]\n",
            "Get:5 http://archive.ubuntu.com/ubuntu jammy/main amd64 libxtst6 amd64 2:1.2.3-1build4 [13.4 kB]\n",
            "Get:6 http://archive.ubuntu.com/ubuntu jammy/main amd64 libxcb-icccm4 amd64 0.4.1-1.1build2 [11.5 kB]\n",
            "Get:7 http://archive.ubuntu.com/ubuntu jammy/main amd64 libxcb-util1 amd64 0.4.0-1build2 [11.4 kB]\n",
            "Get:8 http://archive.ubuntu.com/ubuntu jammy/main amd64 libxcb-image0 amd64 0.4.0-2 [11.5 kB]\n",
            "Get:9 http://archive.ubuntu.com/ubuntu jammy/main amd64 libxcb-keysyms1 amd64 0.4.0-1build3 [8,746 B]\n",
            "Get:10 http://archive.ubuntu.com/ubuntu jammy/main amd64 libxcb-render-util0 amd64 0.3.9-1build3 [10.3 kB]\n",
            "Get:11 http://archive.ubuntu.com/ubuntu jammy/universe amd64 libxcb-cursor0 amd64 0.1.1-4ubuntu1 [10.5 kB]\n",
            "Get:12 /content/nsight-systems-2024.3.1_2024.3.1.75-1_amd64.deb nsight-systems-2024.3.1 amd64 2024.3.1.75-243134195302v0 [358 MB]\n",
            "Fetched 164 kB in 3s (57.9 kB/s)\n",
            "Selecting previously unselected package libxcb-xinerama0:amd64.\n",
            "(Reading database ... 121918 files and directories currently installed.)\n",
            "Preparing to unpack .../00-libxcb-xinerama0_1.14-3ubuntu3_amd64.deb ...\n",
            "Unpacking libxcb-xinerama0:amd64 (1.14-3ubuntu3) ...\n",
            "Selecting previously unselected package libxcb-xinput0:amd64.\n",
            "Preparing to unpack .../01-libxcb-xinput0_1.14-3ubuntu3_amd64.deb ...\n",
            "Unpacking libxcb-xinput0:amd64 (1.14-3ubuntu3) ...\n",
            "Selecting previously unselected package libxcb-xkb1:amd64.\n",
            "Preparing to unpack .../02-libxcb-xkb1_1.14-3ubuntu3_amd64.deb ...\n",
            "Unpacking libxcb-xkb1:amd64 (1.14-3ubuntu3) ...\n",
            "Selecting previously unselected package libxkbcommon-x11-0:amd64.\n",
            "Preparing to unpack .../03-libxkbcommon-x11-0_1.4.0-1_amd64.deb ...\n",
            "Unpacking libxkbcommon-x11-0:amd64 (1.4.0-1) ...\n",
            "Selecting previously unselected package libxtst6:amd64.\n",
            "Preparing to unpack .../04-libxtst6_2%3a1.2.3-1build4_amd64.deb ...\n",
            "Unpacking libxtst6:amd64 (2:1.2.3-1build4) ...\n",
            "Selecting previously unselected package libxcb-icccm4:amd64.\n",
            "Preparing to unpack .../05-libxcb-icccm4_0.4.1-1.1build2_amd64.deb ...\n",
            "Unpacking libxcb-icccm4:amd64 (0.4.1-1.1build2) ...\n",
            "Selecting previously unselected package libxcb-util1:amd64.\n",
            "Preparing to unpack .../06-libxcb-util1_0.4.0-1build2_amd64.deb ...\n",
            "Unpacking libxcb-util1:amd64 (0.4.0-1build2) ...\n",
            "Selecting previously unselected package libxcb-image0:amd64.\n",
            "Preparing to unpack .../07-libxcb-image0_0.4.0-2_amd64.deb ...\n",
            "Unpacking libxcb-image0:amd64 (0.4.0-2) ...\n",
            "Selecting previously unselected package libxcb-keysyms1:amd64.\n",
            "Preparing to unpack .../08-libxcb-keysyms1_0.4.0-1build3_amd64.deb ...\n",
            "Unpacking libxcb-keysyms1:amd64 (0.4.0-1build3) ...\n",
            "Selecting previously unselected package libxcb-render-util0:amd64.\n",
            "Preparing to unpack .../09-libxcb-render-util0_0.3.9-1build3_amd64.deb ...\n",
            "Unpacking libxcb-render-util0:amd64 (0.3.9-1build3) ...\n",
            "Selecting previously unselected package libxcb-cursor0:amd64.\n",
            "Preparing to unpack .../10-libxcb-cursor0_0.1.1-4ubuntu1_amd64.deb ...\n",
            "Unpacking libxcb-cursor0:amd64 (0.1.1-4ubuntu1) ...\n",
            "Selecting previously unselected package nsight-systems-2024.3.1.\n",
            "Preparing to unpack .../11-nsight-systems-2024.3.1_2024.3.1.75-1_amd64.deb ...\n",
            "Unpacking nsight-systems-2024.3.1 (2024.3.1.75-243134195302v0) ...\n",
            "Setting up libxcb-xinput0:amd64 (1.14-3ubuntu3) ...\n",
            "Setting up libxtst6:amd64 (2:1.2.3-1build4) ...\n",
            "Setting up libxcb-keysyms1:amd64 (0.4.0-1build3) ...\n",
            "Setting up libxcb-render-util0:amd64 (0.3.9-1build3) ...\n",
            "Setting up libxcb-icccm4:amd64 (0.4.1-1.1build2) ...\n",
            "Setting up libxcb-util1:amd64 (0.4.0-1build2) ...\n",
            "Setting up libxcb-xkb1:amd64 (1.14-3ubuntu3) ...\n",
            "Setting up libxcb-image0:amd64 (0.4.0-2) ...\n",
            "Setting up libxcb-xinerama0:amd64 (1.14-3ubuntu3) ...\n",
            "Setting up libxcb-cursor0:amd64 (0.1.1-4ubuntu1) ...\n",
            "Setting up libxkbcommon-x11-0:amd64 (1.4.0-1) ...\n",
            "Setting up nsight-systems-2024.3.1 (2024.3.1.75-243134195302v0) ...\n",
            "update-alternatives: using /opt/nvidia/nsight-systems/2024.3.1/target-linux-x64/nsys to provide /usr/local/bin/nsys (nsys) in auto mode\n",
            "update-alternatives: using /opt/nvidia/nsight-systems/2024.3.1/host-linux-x64/nsys-ui to provide /usr/local/bin/nsys-ui (nsys-ui) in auto mode\n",
            "Processing triggers for libc-bin (2.35-0ubuntu3.4) ...\n",
            "/sbin/ldconfig.real: /usr/local/lib/libtbbmalloc.so.2 is not a symbolic link\n",
            "\n",
            "/sbin/ldconfig.real: /usr/local/lib/libtbbbind_2_5.so.3 is not a symbolic link\n",
            "\n",
            "/sbin/ldconfig.real: /usr/local/lib/libtbbmalloc_proxy.so.2 is not a symbolic link\n",
            "\n",
            "/sbin/ldconfig.real: /usr/local/lib/libtbbbind_2_0.so.3 is not a symbolic link\n",
            "\n",
            "/sbin/ldconfig.real: /usr/local/lib/libtbbbind.so.3 is not a symbolic link\n",
            "\n",
            "/sbin/ldconfig.real: /usr/local/lib/libtbb.so.12 is not a symbolic link\n",
            "\n",
            "Reading package lists... Done\n",
            "Building dependency tree... Done\n",
            "Reading state information... Done\n",
            "0 upgraded, 0 newly installed, 0 to remove and 50 not upgraded.\n"
          ]
        }
      ]
    },
    {
      "cell_type": "markdown",
      "source": [
        "## **CUDA Code**"
      ],
      "metadata": {
        "id": "x27dsghpXrkO"
      }
    },
    {
      "cell_type": "code",
      "source": [
        "# -------- CHECK FUNCS  --------\n",
        "%%cuda_group_save --group shared --name \"check.h\"\n",
        "#include <stdio.h>\n",
        "\n",
        "\n",
        "#define CHECK(call);                                                                    \\\n",
        "{                                                                                       \\\n",
        "    const cudaError_t error = call;                                                     \\\n",
        "    if (error != cudaSuccess)                                                           \\\n",
        "    {                                                                                   \\\n",
        "        printf(\"Error: %s:%d, \", __FILE__, __LINE__);                                   \\\n",
        "        printf(\"code: %d, reason: %s\\n\", error, cudaGetErrorString(error));             \\\n",
        "    }                                                                                   \\\n",
        "}"
      ],
      "metadata": {
        "id": "PM8-jiNS6OrD"
      },
      "execution_count": null,
      "outputs": []
    },
    {
      "cell_type": "code",
      "source": [
        "# -------- UTILITY FUNCS  --------\n",
        "%%cuda_group_save --group shared --name \"utils.h\"\n",
        "#include <stdio.h>\n",
        "\n",
        "\n",
        "/*\n",
        "  Returns the ID of a block considering a linearized grid.\n",
        "*/\n",
        "__device__ unsigned int getLinBlockIdx(){\n",
        "    // Glob. block ID\n",
        "    uint bId = blockIdx.x                   //1D\n",
        "      + blockIdx.y * gridDim.x              //2D\n",
        "      + blockIdx.z * gridDim.x * gridDim.y; //3D\n",
        "\n",
        "    return bId;\n",
        "}\n",
        "\n",
        "\n",
        "/*\n",
        "  Returns the local ID of a thread considering a linearized block.\n",
        "*/\n",
        "__device__ unsigned int getLinThreadIdx(){\n",
        "    // Thread ID of the block\n",
        "    unsigned int tId = threadIdx.x              //1D\n",
        "      + threadIdx.y * blockDim.x                //2D\n",
        "      + threadIdx.z * blockDim.x * blockDim.y;  //3D\n",
        "\n",
        "    return tId;\n",
        "}\n",
        "\n",
        "\n",
        "/*\n",
        "  Returns the glob. ID of a thread considering a linearized grid & blocks.\n",
        "*/\n",
        "__device__ unsigned int getGlobalLinThreadIdx(){\n",
        "    // Tot. number of threads per block\n",
        "    unsigned int bSize = blockDim.x * blockDim.y * blockDim.z;\n",
        "\n",
        "    return getLinThreadIdx() + getLinBlockIdx() * bSize;\n",
        "}\n",
        "\n",
        "\n",
        "/*\n",
        "  Returns the glob. ID of a thread coordinate-wise.\n",
        "*/\n",
        "__device__ uint3 getGlobalThreadIdx(){\n",
        "    uint3 coords;\n",
        "\n",
        "    coords.x = threadIdx.x + blockDim.x * blockIdx.x;\n",
        "    coords.y = threadIdx.y + blockDim.y * blockIdx.y;\n",
        "    coords.z = threadIdx.z + blockDim.z * blockIdx.z;\n",
        "\n",
        "    return coords;\n",
        "}"
      ],
      "metadata": {
        "id": "pvN9nY5ivI0P"
      },
      "execution_count": null,
      "outputs": []
    },
    {
      "cell_type": "code",
      "source": [
        "%%cuda_group_save --group \"project\" --name \"main.cu\"\n",
        "#include <stdio.h>\n",
        "#include <time.h>\n",
        "\n",
        "#include \"/content/src/shared/check.h\"\n",
        "#include \"/content/src/shared/utils.h\"\n",
        "\n",
        "__global__ void kernel(){\n",
        "  const int len = 64;\n",
        "  __shared__ int smem[len];\n",
        "\n",
        "  const int idx = getGlobalLinThreadIdx();\n",
        "  smem[idx] = idx;\n",
        "  smem[32 + idx] = 32 + idx;\n",
        "\n",
        "  printf(\"Thread %d -> %d, %d\\n\", idx, smem[idx], smem[idx+32]);\n",
        "}\n",
        "\n",
        "int main(){\n",
        "  kernel<<<1,32>>>();\n",
        "\n",
        "  cudaDeviceReset();\n",
        "  return 0;\n",
        "}"
      ],
      "metadata": {
        "id": "u42SVK_dOD7o"
      },
      "execution_count": null,
      "outputs": []
    },
    {
      "cell_type": "code",
      "source": [
        "!nvcc -o src/project/main.exe src/project/main.cu\n",
        "!src/project/main.exe"
      ],
      "metadata": {
        "id": "XhAHwyuYR1kJ"
      },
      "execution_count": null,
      "outputs": []
    },
    {
      "cell_type": "code",
      "source": [
        "! ncu /content/src/project/main.exe"
      ],
      "metadata": {
        "id": "rrES1XUxU6-r"
      },
      "execution_count": null,
      "outputs": []
    },
    {
      "cell_type": "code",
      "source": [
        "!nsys profile -o src/project/main%n.nsys-rep src/project/main.exe"
      ],
      "metadata": {
        "id": "FgKO9QNaz730"
      },
      "execution_count": null,
      "outputs": []
    }
  ]
}